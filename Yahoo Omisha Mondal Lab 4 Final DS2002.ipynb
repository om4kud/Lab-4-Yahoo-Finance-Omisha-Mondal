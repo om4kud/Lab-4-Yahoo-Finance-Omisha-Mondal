{
 "cells": [
  {
   "cell_type": "markdown",
   "id": "b793beeb",
   "metadata": {},
   "source": [
    "**Due: Sunday at 11:59 P.M. via Collab and GitHub**\n",
    "\n",
    "Learning Objective\n",
    "1.\tPut into practice using Python to interact and call a public API successfully\n",
    "2.\tLook at the data within JSON and DataFrames\n",
    "3.\tWrite your data to a local file (JSON)\n",
    "4.\tUse basic visualization to display information\n",
    "5.\tInteract with users\n",
    "\n",
    "Challenge:\n",
    "You have seen some examples of how to interact with JSON, CSV and make API Calls. Take some time to explore the YAHOO Finance Guide https://syncwith.com/yahoo-finance/yahoo-finance-api which shows you endpoints for calling information. Your job is to code a Python Program that does the following things:\n",
    "\n",
    "1.\tTakes user input for a stock (using the Ticker Symbol): IE with the input() command\n",
    "2.\tYou will display back the user: Name Ticker, Full Name of the Stock, Current Price, Target Mean Price, Cash on Hand, Profit Margins\n",
    "3.\tStore the Results Locally in JSON Format with just those items and include a date of when that data was pulled\n",
    "4.\tHandle Errors (IE, the stock doesn’t exist and/or the API is not returning information)\n",
    "\n",
    "You will have to read the documentation and figure out which modules to call to get the data that you need. You will need to make more than one call to this API. Use the examples in our Zoom Session to guide you, but the documentation will be enough. Post your code to GitHub.\n",
    "\n",
    "Bonus –\n",
    "1.\tUse MatPlotLib to chart the historical price of a stock price’s highest value over the past 5 days. \n",
    "\n"
   ]
  },
  {
   "cell_type": "code",
   "execution_count": 1,
   "id": "a0b3d457",
   "metadata": {},
   "outputs": [],
   "source": [
    "#Omisha Mondal Computing ID: om4kud\n",
    "import json\n",
    "import requests\n",
    "import pandas as pd\n",
    "import matplotlib\n",
    "import yfinance as yf"
   ]
  },
  {
   "cell_type": "code",
   "execution_count": 2,
   "id": "ca89de43",
   "metadata": {},
   "outputs": [
    {
     "name": "stdout",
     "output_type": "stream",
     "text": [
      "MSFT\n"
     ]
    },
    {
     "data": {
      "text/plain": [
       "'MSFT'"
      ]
     },
     "execution_count": 2,
     "metadata": {},
     "output_type": "execute_result"
    }
   ],
   "source": [
    "stock = input() #this asks the user for a stock/ticker or something \n",
    "stock"
   ]
  },
  {
   "cell_type": "code",
   "execution_count": 3,
   "id": "03e49250",
   "metadata": {},
   "outputs": [
    {
     "name": "stdout",
     "output_type": "stream",
     "text": [
      "MSFT\n"
     ]
    }
   ],
   "source": [
    "print(stock)"
   ]
  },
  {
   "cell_type": "code",
   "execution_count": 4,
   "id": "39bc6d77",
   "metadata": {},
   "outputs": [
    {
     "name": "stdout",
     "output_type": "stream",
     "text": [
      "{'symbols': 'MSFT'}\n"
     ]
    }
   ],
   "source": [
    "#step 1 set up url where is this enpoint that I want\n",
    "#base url https://query1.finance.yahoo.com/v7/finance/quote\n",
    "urlQuote = 'https://query1.finance.yahoo.com/v7/finance/quote'\n",
    "querystring = {\"symbols\": stock}\n",
    "print(querystring)"
   ]
  },
  {
   "cell_type": "code",
   "execution_count": 5,
   "id": "a53f07c6",
   "metadata": {},
   "outputs": [],
   "source": [
    "header_var ={\n",
    "    'User-Agent': 'Mozilla/5.0 (Macintosh; Intel Mac OS X 10_10_1) AppleWebKit/537.36 (KHTML, like Gecko) Chrome/39.0.2171.95 Safari/537.36'}\n",
    "\n",
    "response = requests.request(\"GET\",urlQuote, headers=header_var,params=querystring)\n"
   ]
  },
  {
   "cell_type": "code",
   "execution_count": 6,
   "id": "79089bfb",
   "metadata": {},
   "outputs": [],
   "source": [
    "stock_json = response.json()\n"
   ]
  },
  {
   "cell_type": "code",
   "execution_count": 7,
   "id": "d42bd575",
   "metadata": {},
   "outputs": [
    {
     "data": {
      "text/plain": [
       "'Microsoft Corporation'"
      ]
     },
     "execution_count": 7,
     "metadata": {},
     "output_type": "execute_result"
    }
   ],
   "source": [
    "stock_json['quoteResponse']['result'][0]['longName']"
   ]
  },
  {
   "cell_type": "code",
   "execution_count": 8,
   "id": "8b646e2b",
   "metadata": {},
   "outputs": [
    {
     "data": {
      "text/plain": [
       "{'quoteSummary': {'result': [{'financialData': {'maxAge': 86400,\n",
       "     'currentPrice': {'raw': 232.72, 'fmt': '232.72'},\n",
       "     'targetHighPrice': {'raw': 411.0, 'fmt': '411.00'},\n",
       "     'targetLowPrice': {'raw': 275.0, 'fmt': '275.00'},\n",
       "     'targetMeanPrice': {'raw': 323.15, 'fmt': '323.15'},\n",
       "     'targetMedianPrice': {'raw': 315.0, 'fmt': '315.00'},\n",
       "     'recommendationMean': {'raw': 1.7, 'fmt': '1.70'},\n",
       "     'recommendationKey': 'buy',\n",
       "     'numberOfAnalystOpinions': {'raw': 44, 'fmt': '44', 'longFmt': '44'},\n",
       "     'totalCash': {'raw': 104748998656,\n",
       "      'fmt': '104.75B',\n",
       "      'longFmt': '104,748,998,656'},\n",
       "     'totalCashPerShare': {'raw': 14.045, 'fmt': '14.05'},\n",
       "     'ebitda': {'raw': 97982996480,\n",
       "      'fmt': '97.98B',\n",
       "      'longFmt': '97,982,996,480'},\n",
       "     'totalDebt': {'raw': 78399995904,\n",
       "      'fmt': '78.4B',\n",
       "      'longFmt': '78,399,995,904'},\n",
       "     'quickRatio': {'raw': 1.567, 'fmt': '1.57'},\n",
       "     'currentRatio': {'raw': 1.785, 'fmt': '1.78'},\n",
       "     'totalRevenue': {'raw': 198269992960,\n",
       "      'fmt': '198.27B',\n",
       "      'longFmt': '198,269,992,960'},\n",
       "     'debtToEquity': {'raw': 47.075, 'fmt': '47.08'},\n",
       "     'revenuePerShare': {'raw': 26.45, 'fmt': '26.45'},\n",
       "     'returnOnAssets': {'raw': 0.14919, 'fmt': '14.92%'},\n",
       "     'returnOnEquity': {'raw': 0.47151002, 'fmt': '47.15%'},\n",
       "     'grossProfits': {'raw': 135620000000,\n",
       "      'fmt': '135.62B',\n",
       "      'longFmt': '135,620,000,000'},\n",
       "     'freeCashflow': {'raw': 49479000064,\n",
       "      'fmt': '49.48B',\n",
       "      'longFmt': '49,479,000,064'},\n",
       "     'operatingCashflow': {'raw': 89034997760,\n",
       "      'fmt': '89.03B',\n",
       "      'longFmt': '89,034,997,760'},\n",
       "     'earningsGrowth': {'raw': 0.031, 'fmt': '3.10%'},\n",
       "     'revenueGrowth': {'raw': 0.124, 'fmt': '12.40%'},\n",
       "     'grossMargins': {'raw': 0.68402, 'fmt': '68.40%'},\n",
       "     'ebitdaMargins': {'raw': 0.49418998, 'fmt': '49.42%'},\n",
       "     'operatingMargins': {'raw': 0.42055, 'fmt': '42.05%'},\n",
       "     'profitMargins': {'raw': 0.36686, 'fmt': '36.69%'},\n",
       "     'financialCurrency': 'USD'}}],\n",
       "  'error': None}}"
      ]
     },
     "execution_count": 8,
     "metadata": {},
     "output_type": "execute_result"
    }
   ],
   "source": [
    "urlSummary=\"https://query1.finance.yahoo.com/v10/finance/quoteSummary/\"\n",
    "query_str_2 = {\"symbol\": stock, \"modules\":\"financialData\"}\n",
    "\n",
    "response_2 = requests.request(\"GET\", urlSummary, headers=header_var,params=query_str_2)\n",
    "\n",
    "stock_json_2 = response_2.json()\n",
    "\n",
    "stock_json_2\n"
   ]
  },
  {
   "cell_type": "code",
   "execution_count": 9,
   "id": "47c3055d",
   "metadata": {},
   "outputs": [],
   "source": [
    "#Handle errors\n",
    "if len(stock_json['quoteResponse']['result']) == 0:\n",
    "    print(\"This stock does not exist.\")"
   ]
  },
  {
   "cell_type": "code",
   "execution_count": 10,
   "id": "0a258bc7",
   "metadata": {},
   "outputs": [
    {
     "name": "stdout",
     "output_type": "stream",
     "text": [
      "Name Ticker: MSFT\n",
      "Full Name of the Stock: Microsoft Corporation\n",
      "Current Price: 232.72\n",
      "Target Mean Price: 323.15\n",
      "Cash on Hand: 104748998656\n",
      "Profit Margins: 0.36686\n"
     ]
    }
   ],
   "source": [
    "print(\"Name Ticker:\", stock)\n",
    "print(\"Full Name of the Stock:\", stock_json['quoteResponse']['result'][0]['longName'])\n",
    "print(\"Current Price:\", stock_json_2['quoteSummary']['result'][0]['financialData']['currentPrice']['raw'])\n",
    "print(\"Target Mean Price:\", stock_json_2['quoteSummary']['result'][0]['financialData']['targetMeanPrice']['raw'])\n",
    "print(\"Cash on Hand:\", stock_json_2['quoteSummary']['result'][0]['financialData']['totalCash']['raw'])\n",
    "print(\"Profit Margins:\", stock_json_2['quoteSummary']['result'][0]['financialData']['profitMargins']['raw'])"
   ]
  },
  {
   "cell_type": "code",
   "execution_count": 13,
   "id": "5c83239e",
   "metadata": {},
   "outputs": [],
   "source": [
    "#Write to json file\n",
    "from datetime import datetime\n",
    "\n",
    "today = datetime.today().strftime('%Y-%m-%d')\n",
    "\n",
    "JSONdata = {\"Name Ticker\" : stock, \n",
    "        \"Full Name of the Stock\" : stock_json['quoteResponse']['result'][0]['longName'],\n",
    "        \"Current Price\" : stock_json_2['quoteSummary']['result'][0]['financialData']['currentPrice']['raw'],\n",
    "        \"Target Mean Price\" : stock_json_2['quoteSummary']['result'][0]['financialData']['targetMeanPrice']['raw'],\n",
    "        \"Cash on Hand\" : stock_json_2['quoteSummary']['result'][0]['financialData']['totalCash']['raw'],\n",
    "        \"Profit Margins\" : stock_json_2['quoteSummary']['result'][0]['financialData']['profitMargins']['raw'],\n",
    "        \"Today\" : today}\n",
    "\n",
    "with open('JSONdata.json', 'w', encoding='utf-8') as f:\n",
    "    json.dump(JSONdata, f, ensure_ascii=False, indent=4)"
   ]
  },
  {
   "cell_type": "code",
   "execution_count": 15,
   "id": "97a50cdf",
   "metadata": {},
   "outputs": [
    {
     "data": {
      "text/plain": [
       "<AxesSubplot:title={'center':\"Historical Price of MSFT's Highest Value Over the Past 5 Days\"}, xlabel='Date'>"
      ]
     },
     "execution_count": 15,
     "metadata": {},
     "output_type": "execute_result"
    },
    {
     "data": {
      "image/png": "[encoded data removed]",
      "text/plain": [
       "<Figure size 432x288 with 1 Axes>"
      ]
     },
     "metadata": {
      "needs_background": "light"
     },
     "output_type": "display_data"
    }
   ],
   "source": [
    "#Bonus plot\n",
    "from yahoofinancials import YahooFinancials\n",
    "import datetime\n",
    "\n",
    "start = (datetime.datetime.now() - datetime.timedelta(days = 5)).date()\n",
    "end = datetime.datetime.now().date()\n",
    "\n",
    "time = yf.download(stock,\n",
    "                        start = start,\n",
    "                        end = end,\n",
    "                        progress = False\n",
    "                        )\n",
    "\n",
    "time['High'].plot(title = f\"Historical Price of {stock}\\'s Highest Value Over the Past 5 Days\")"
   ]
  }
 ],
 "metadata": {
  "kernelspec": {
   "display_name": "Python 3 (ipykernel)",
   "language": "python",
   "name": "python3"
  },
  "language_info": {
   "codemirror_mode": {
    "name": "ipython",
    "version": 3
   },
   "file_extension": ".py",
   "mimetype": "text/x-python",
   "name": "python",
   "nbconvert_exporter": "python",
   "pygments_lexer": "ipython3",
   "version": "3.9.12"
  }
 },
 "nbformat": 4,
 "nbformat_minor": 5
}
